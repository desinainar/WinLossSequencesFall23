{
 "cells": [
  {
   "cell_type": "code",
   "execution_count": 8,
   "metadata": {},
   "outputs": [
    {
     "name": "stdout",
     "output_type": "stream",
     "text": [
      "Team rankings:\n",
      "Rank 1: TeamA with rating 2.75\n",
      "Rank 2: TeamB with rating 2.65\n",
      "Rank 3: TeamD with rating 2.60\n",
      "Rank 4: TeamE with rating 2.26\n",
      "Rank 5: TeamC with rating 2.24\n"
     ]
    },
    {
     "data": {
      "image/png": "[encoded data removed]",
      "text/plain": [
       "<Figure size 640x480 with 1 Axes>"
      ]
     },
     "metadata": {},
     "output_type": "display_data"
    }
   ],
   "source": [
    "import numpy as np\n",
    "import pandas as pd\n",
    "import matplotlib.pyplot as plt\n",
    "\n",
    "def generate_games(teams, n_games=20):\n",
    "    \"\"\"\n",
    "    Randomly generate game outcomes for teams.\n",
    "    Returns a list of tuples: (team_a, team_b, result)\n",
    "    \"\"\"\n",
    "    games = []\n",
    "    for _ in range(n_games):\n",
    "        team_a, team_b = np.random.choice(teams, 2, replace=False)\n",
    "        result = 'win' if np.random.rand() < 0.5 else 'lose'\n",
    "        games.append((team_a, team_b, result))\n",
    "    return games\n",
    "\n",
    "def read_games_from_csv(filename):\n",
    "    \"\"\"Read games data from CSV and return as list of tuples.\"\"\"\n",
    "    df = pd.read_csv(filename)\n",
    "    return list(df.itertuples(index=False, name=None))\n",
    "\n",
    "# Custom team names\n",
    "teams = [\"TeamA\", \"TeamB\", \"TeamC\", \"TeamD\", \"TeamE\"]\n",
    "\n",
    "# Number of teams\n",
    "n = len(teams)\n",
    "\n",
    "# Get games (either generate or read from CSV)\n",
    "# To generate games: games = generate_games(teams, n_games=20)\n",
    "# To read from CSV: games = read_games_from_csv('games.csv')\n",
    "\n",
    "games = generate_games(teams, n_games=20)\n",
    "# games = read_games_from_csv('gamesample.csv')\n",
    "\n",
    "# Initialize the matrix and vector\n",
    "C = 2 * np.eye(n)\n",
    "b = np.ones(n)\n",
    "\n",
    "# Update the matrix C and b based on the games\n",
    "for game in games:\n",
    "    i, j, result = teams.index(game[0]), teams.index(game[1]), game[2]\n",
    "    C[i, i] += 1\n",
    "    C[j, j] += 1\n",
    "    C[i, j] -= 1\n",
    "    C[j, i] -= 1\n",
    "\n",
    "    if result == 'win':\n",
    "        b[i] += 1\n",
    "    else:\n",
    "        b[j] += 1\n",
    "\n",
    "# Solve for ratings\n",
    "r = np.linalg.solve(C, b)\n",
    "\n",
    "# Rank teams\n",
    "ranked_teams_indices = np.argsort(r)[::-1]\n",
    "\n",
    "# Display results\n",
    "print(\"Team rankings:\")\n",
    "for rank, idx in enumerate(ranked_teams_indices, 1):\n",
    "    print(f\"Rank {rank}: {teams[idx]} with rating {r[idx]:.2f}\")\n",
    "\n",
    "# Visualize\n",
    "plt.bar(range(n), r[ranked_teams_indices], tick_label=[teams[i] for i in ranked_teams_indices])\n",
    "plt.xlabel('Teams')\n",
    "plt.ylabel('Ratings')\n",
    "plt.title('Team Ratings using Colley Method')\n",
    "plt.show()\n"
   ]
  }
 ],
 "metadata": {
  "kernelspec": {
   "display_name": "Python 3",
   "language": "python",
   "name": "python3"
  },
  "language_info": {
   "codemirror_mode": {
    "name": "ipython",
    "version": 3
   },
   "file_extension": ".py",
   "mimetype": "text/x-python",
   "name": "python",
   "nbconvert_exporter": "python",
   "pygments_lexer": "ipython3",
   "version": "3.11.4"
  },
  "orig_nbformat": 4
 },
 "nbformat": 4,
 "nbformat_minor": 2
}
