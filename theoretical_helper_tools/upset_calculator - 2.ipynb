{
 "cells": [
  {
   "cell_type": "code",
   "execution_count": 1,
   "metadata": {},
   "outputs": [],
   "source": [
    "import itertools\n",
    "import pandas as pd\n",
    "\n",
    "class Game:\n",
    "    def __init__(self, teams):\n",
    "        self.teams = teams\n",
    "        self.num_teams = len(teams)\n",
    "        self.win_rates = {team: 0 for team in teams}\n",
    "        self.num_wins = {team: 0 for team in teams}\n",
    "        self.total_games = {team: 0 for team in teams}\n",
    "        self.matrix = []\n",
    "        \n",
    "    def simulate_game(self, team1, team2):\n",
    "        # Here we manually specify the winner based on some criteria\n",
    "        if team1 == 'A':\n",
    "            winner = team1\n",
    "        elif team1 == 'B' and team2 != 'A':\n",
    "            winner = team1\n",
    "        elif team1 == 'C' and team2 == 'D':\n",
    "            winner = team1\n",
    "        else:\n",
    "            winner = team2\n",
    "        \n",
    "        # Update win counts and total games played for each team\n",
    "        self.num_wins[winner] += 1\n",
    "        self.total_games[team1] += 1\n",
    "        self.total_games[team2] += 1\n",
    "        \n",
    "        # Update win rates\n",
    "        self.win_rates[team1] = self.num_wins[team1] / self.total_games[team1]\n",
    "        self.win_rates[team2] = self.num_wins[team2] / self.total_games[team2]\n",
    "        \n",
    "        # Make prediction based on win rates\n",
    "        predicted_winner = team1 if self.win_rates[team1] > self.win_rates[team2] else team2\n",
    "        \n",
    "        # Add data to matrix\n",
    "        self.matrix.append([f\"{team1} vs {team2}\", winner, self.win_rates['A'], self.win_rates['B'], self.win_rates['C'], self.win_rates['D'], predicted_winner])\n",
    "        \n",
    "    def simulate_season(self):\n",
    "        for team1, team2 in itertools.combinations(self.teams, 2):\n",
    "            self.simulate_game(team1, team2)\n",
    "            \n",
    "    def calculate_upset_rate(self):\n",
    "        num_upsets = 0\n",
    "        total_games = len(self.matrix)\n",
    "        \n",
    "        for row in self.matrix:\n",
    "            if row[1] != row[6]:  # Actual winner != Predicted winner\n",
    "                num_upsets += 1\n",
    "                \n",
    "        return num_upsets / total_games"
   ]
  },
  {
   "cell_type": "code",
   "execution_count": 6,
   "metadata": {},
   "outputs": [
    {
     "ename": "ValueError",
     "evalue": "8 columns passed, passed data had 7 columns",
     "output_type": "error",
     "traceback": [
      "\u001b[1;31m---------------------------------------------------------------------------\u001b[0m",
      "\u001b[1;31mAssertionError\u001b[0m                            Traceback (most recent call last)",
      "File \u001b[1;32mc:\\Users\\CC\\AppData\\Local\\Programs\\Python\\Python311\\Lib\\site-packages\\pandas\\core\\internals\\construction.py:934\u001b[0m, in \u001b[0;36m_finalize_columns_and_data\u001b[1;34m(content, columns, dtype)\u001b[0m\n\u001b[0;32m    933\u001b[0m \u001b[39mtry\u001b[39;00m:\n\u001b[1;32m--> 934\u001b[0m     columns \u001b[39m=\u001b[39m _validate_or_indexify_columns(contents, columns)\n\u001b[0;32m    935\u001b[0m \u001b[39mexcept\u001b[39;00m \u001b[39mAssertionError\u001b[39;00m \u001b[39mas\u001b[39;00m err:\n\u001b[0;32m    936\u001b[0m     \u001b[39m# GH#26429 do not raise user-facing AssertionError\u001b[39;00m\n",
      "File \u001b[1;32mc:\\Users\\CC\\AppData\\Local\\Programs\\Python\\Python311\\Lib\\site-packages\\pandas\\core\\internals\\construction.py:981\u001b[0m, in \u001b[0;36m_validate_or_indexify_columns\u001b[1;34m(content, columns)\u001b[0m\n\u001b[0;32m    979\u001b[0m \u001b[39mif\u001b[39;00m \u001b[39mnot\u001b[39;00m is_mi_list \u001b[39mand\u001b[39;00m \u001b[39mlen\u001b[39m(columns) \u001b[39m!=\u001b[39m \u001b[39mlen\u001b[39m(content):  \u001b[39m# pragma: no cover\u001b[39;00m\n\u001b[0;32m    980\u001b[0m     \u001b[39m# caller's responsibility to check for this...\u001b[39;00m\n\u001b[1;32m--> 981\u001b[0m     \u001b[39mraise\u001b[39;00m \u001b[39mAssertionError\u001b[39;00m(\n\u001b[0;32m    982\u001b[0m         \u001b[39mf\u001b[39m\u001b[39m\"\u001b[39m\u001b[39m{\u001b[39;00m\u001b[39mlen\u001b[39m(columns)\u001b[39m}\u001b[39;00m\u001b[39m columns passed, passed data had \u001b[39m\u001b[39m\"\u001b[39m\n\u001b[0;32m    983\u001b[0m         \u001b[39mf\u001b[39m\u001b[39m\"\u001b[39m\u001b[39m{\u001b[39;00m\u001b[39mlen\u001b[39m(content)\u001b[39m}\u001b[39;00m\u001b[39m columns\u001b[39m\u001b[39m\"\u001b[39m\n\u001b[0;32m    984\u001b[0m     )\n\u001b[0;32m    985\u001b[0m \u001b[39mif\u001b[39;00m is_mi_list:\n\u001b[0;32m    986\u001b[0m     \u001b[39m# check if nested list column, length of each sub-list should be equal\u001b[39;00m\n",
      "\u001b[1;31mAssertionError\u001b[0m: 8 columns passed, passed data had 7 columns",
      "\nThe above exception was the direct cause of the following exception:\n",
      "\u001b[1;31mValueError\u001b[0m                                Traceback (most recent call last)",
      "\u001b[1;32md:\\main\\University of Illinois - Urbana Champaign\\_2023FA\\IGL\\theoretical_helper_tools\\upset_calculator - 2.ipynb Cell 2\u001b[0m line \u001b[0;36m1\n\u001b[0;32m     <a href='vscode-notebook-cell:/d%3A/main/University%20of%20Illinois%20-%20Urbana%20Champaign/_2023FA/IGL/theoretical_helper_tools/upset_calculator%20-%202.ipynb#W1sZmlsZQ%3D%3D?line=15'>16</a>\u001b[0m dynamic_columns\u001b[39m.\u001b[39mappend(\u001b[39m'\u001b[39m\u001b[39mPredicted Winner\u001b[39m\u001b[39m'\u001b[39m)\n\u001b[0;32m     <a href='vscode-notebook-cell:/d%3A/main/University%20of%20Illinois%20-%20Urbana%20Champaign/_2023FA/IGL/theoretical_helper_tools/upset_calculator%20-%202.ipynb#W1sZmlsZQ%3D%3D?line=17'>18</a>\u001b[0m \u001b[39m# Convert the matrix to a DataFrame for easier visualization\u001b[39;00m\n\u001b[1;32m---> <a href='vscode-notebook-cell:/d%3A/main/University%20of%20Illinois%20-%20Urbana%20Champaign/_2023FA/IGL/theoretical_helper_tools/upset_calculator%20-%202.ipynb#W1sZmlsZQ%3D%3D?line=18'>19</a>\u001b[0m df \u001b[39m=\u001b[39m pd\u001b[39m.\u001b[39;49mDataFrame(game\u001b[39m.\u001b[39;49mmatrix, columns\u001b[39m=\u001b[39;49mdynamic_columns)\n\u001b[0;32m     <a href='vscode-notebook-cell:/d%3A/main/University%20of%20Illinois%20-%20Urbana%20Champaign/_2023FA/IGL/theoretical_helper_tools/upset_calculator%20-%202.ipynb#W1sZmlsZQ%3D%3D?line=19'>20</a>\u001b[0m \u001b[39mprint\u001b[39m(df)\n\u001b[0;32m     <a href='vscode-notebook-cell:/d%3A/main/University%20of%20Illinois%20-%20Urbana%20Champaign/_2023FA/IGL/theoretical_helper_tools/upset_calculator%20-%202.ipynb#W1sZmlsZQ%3D%3D?line=23'>24</a>\u001b[0m \u001b[39m# Calculate and print the upset rate\u001b[39;00m\n",
      "File \u001b[1;32mc:\\Users\\CC\\AppData\\Local\\Programs\\Python\\Python311\\Lib\\site-packages\\pandas\\core\\frame.py:782\u001b[0m, in \u001b[0;36mDataFrame.__init__\u001b[1;34m(self, data, index, columns, dtype, copy)\u001b[0m\n\u001b[0;32m    780\u001b[0m     \u001b[39mif\u001b[39;00m columns \u001b[39mis\u001b[39;00m \u001b[39mnot\u001b[39;00m \u001b[39mNone\u001b[39;00m:\n\u001b[0;32m    781\u001b[0m         columns \u001b[39m=\u001b[39m ensure_index(columns)\n\u001b[1;32m--> 782\u001b[0m     arrays, columns, index \u001b[39m=\u001b[39m nested_data_to_arrays(\n\u001b[0;32m    783\u001b[0m         \u001b[39m# error: Argument 3 to \"nested_data_to_arrays\" has incompatible\u001b[39;49;00m\n\u001b[0;32m    784\u001b[0m         \u001b[39m# type \"Optional[Collection[Any]]\"; expected \"Optional[Index]\"\u001b[39;49;00m\n\u001b[0;32m    785\u001b[0m         data,\n\u001b[0;32m    786\u001b[0m         columns,\n\u001b[0;32m    787\u001b[0m         index,  \u001b[39m# type: ignore[arg-type]\u001b[39;49;00m\n\u001b[0;32m    788\u001b[0m         dtype,\n\u001b[0;32m    789\u001b[0m     )\n\u001b[0;32m    790\u001b[0m     mgr \u001b[39m=\u001b[39m arrays_to_mgr(\n\u001b[0;32m    791\u001b[0m         arrays,\n\u001b[0;32m    792\u001b[0m         columns,\n\u001b[1;32m   (...)\u001b[0m\n\u001b[0;32m    795\u001b[0m         typ\u001b[39m=\u001b[39mmanager,\n\u001b[0;32m    796\u001b[0m     )\n\u001b[0;32m    797\u001b[0m \u001b[39melse\u001b[39;00m:\n",
      "File \u001b[1;32mc:\\Users\\CC\\AppData\\Local\\Programs\\Python\\Python311\\Lib\\site-packages\\pandas\\core\\internals\\construction.py:498\u001b[0m, in \u001b[0;36mnested_data_to_arrays\u001b[1;34m(data, columns, index, dtype)\u001b[0m\n\u001b[0;32m    495\u001b[0m \u001b[39mif\u001b[39;00m is_named_tuple(data[\u001b[39m0\u001b[39m]) \u001b[39mand\u001b[39;00m columns \u001b[39mis\u001b[39;00m \u001b[39mNone\u001b[39;00m:\n\u001b[0;32m    496\u001b[0m     columns \u001b[39m=\u001b[39m ensure_index(data[\u001b[39m0\u001b[39m]\u001b[39m.\u001b[39m_fields)\n\u001b[1;32m--> 498\u001b[0m arrays, columns \u001b[39m=\u001b[39m to_arrays(data, columns, dtype\u001b[39m=\u001b[39;49mdtype)\n\u001b[0;32m    499\u001b[0m columns \u001b[39m=\u001b[39m ensure_index(columns)\n\u001b[0;32m    501\u001b[0m \u001b[39mif\u001b[39;00m index \u001b[39mis\u001b[39;00m \u001b[39mNone\u001b[39;00m:\n",
      "File \u001b[1;32mc:\\Users\\CC\\AppData\\Local\\Programs\\Python\\Python311\\Lib\\site-packages\\pandas\\core\\internals\\construction.py:840\u001b[0m, in \u001b[0;36mto_arrays\u001b[1;34m(data, columns, dtype)\u001b[0m\n\u001b[0;32m    837\u001b[0m     data \u001b[39m=\u001b[39m [\u001b[39mtuple\u001b[39m(x) \u001b[39mfor\u001b[39;00m x \u001b[39min\u001b[39;00m data]\n\u001b[0;32m    838\u001b[0m     arr \u001b[39m=\u001b[39m _list_to_arrays(data)\n\u001b[1;32m--> 840\u001b[0m content, columns \u001b[39m=\u001b[39m _finalize_columns_and_data(arr, columns, dtype)\n\u001b[0;32m    841\u001b[0m \u001b[39mreturn\u001b[39;00m content, columns\n",
      "File \u001b[1;32mc:\\Users\\CC\\AppData\\Local\\Programs\\Python\\Python311\\Lib\\site-packages\\pandas\\core\\internals\\construction.py:937\u001b[0m, in \u001b[0;36m_finalize_columns_and_data\u001b[1;34m(content, columns, dtype)\u001b[0m\n\u001b[0;32m    934\u001b[0m     columns \u001b[39m=\u001b[39m _validate_or_indexify_columns(contents, columns)\n\u001b[0;32m    935\u001b[0m \u001b[39mexcept\u001b[39;00m \u001b[39mAssertionError\u001b[39;00m \u001b[39mas\u001b[39;00m err:\n\u001b[0;32m    936\u001b[0m     \u001b[39m# GH#26429 do not raise user-facing AssertionError\u001b[39;00m\n\u001b[1;32m--> 937\u001b[0m     \u001b[39mraise\u001b[39;00m \u001b[39mValueError\u001b[39;00m(err) \u001b[39mfrom\u001b[39;00m \u001b[39merr\u001b[39;00m\n\u001b[0;32m    939\u001b[0m \u001b[39mif\u001b[39;00m \u001b[39mlen\u001b[39m(contents) \u001b[39mand\u001b[39;00m contents[\u001b[39m0\u001b[39m]\u001b[39m.\u001b[39mdtype \u001b[39m==\u001b[39m np\u001b[39m.\u001b[39mobject_:\n\u001b[0;32m    940\u001b[0m     contents \u001b[39m=\u001b[39m convert_object_array(contents, dtype\u001b[39m=\u001b[39mdtype)\n",
      "\u001b[1;31mValueError\u001b[0m: 8 columns passed, passed data had 7 columns"
     ]
    }
   ],
   "source": [
    "\n",
    "# Initialize the Game class\n",
    "teams = ['A', 'B', 'C', 'D']\n",
    "game = Game(teams)\n",
    "\n",
    "# Simulate the season\n",
    "game.simulate_season()\n",
    "\n",
    "# Convert the matrix to a DataFrame for easier visualization\n",
    "# df = pd.DataFrame(game.matrix, columns=['Game', 'Actual Winner', 'Win Rate A', 'Win Rate B', 'Win Rate C', 'Win Rate D', 'Predicted Winner'])\n",
    "# print(df)\n",
    "\n",
    "\n",
    "# Generate DataFrame columns dynamically based on the teams\n",
    "dynamic_columns = ['Game', 'Actual Winner']\n",
    "dynamic_columns.extend([f'Win Rate {team}' for team in teams])\n",
    "dynamic_columns.append('Predicted Winner')\n",
    "\n",
    "# Convert the matrix to a DataFrame for easier visualization\n",
    "df = pd.DataFrame(game.matrix, columns=dynamic_columns)\n",
    "print(df)\n",
    "\n",
    "\n",
    "\n",
    "# Calculate and print the upset rate\n",
    "upset_rate = game.calculate_upset_rate()\n",
    "print(f\"Upset rate for the season: {upset_rate}\")"
   ]
  },
  {
   "cell_type": "code",
   "execution_count": 43,
   "metadata": {},
   "outputs": [],
   "source": []
  },
  {
   "cell_type": "code",
   "execution_count": 44,
   "metadata": {},
   "outputs": [
    {
     "name": "stdout",
     "output_type": "stream",
     "text": [
      "0.16666666666666688\n",
      "0.21132486540518675\n"
     ]
    }
   ],
   "source": []
  },
  {
   "cell_type": "code",
   "execution_count": null,
   "metadata": {},
   "outputs": [],
   "source": []
  }
 ],
 "metadata": {
  "kernelspec": {
   "display_name": "Python 3",
   "language": "python",
   "name": "python3"
  },
  "language_info": {
   "codemirror_mode": {
    "name": "ipython",
    "version": 3
   },
   "file_extension": ".py",
   "mimetype": "text/x-python",
   "name": "python",
   "nbconvert_exporter": "python",
   "pygments_lexer": "ipython3",
   "version": "3.11.4"
  },
  "orig_nbformat": 4
 },
 "nbformat": 4,
 "nbformat_minor": 2
}
