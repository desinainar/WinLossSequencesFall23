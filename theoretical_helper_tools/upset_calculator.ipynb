{
 "cells": [
  {
   "cell_type": "code",
   "execution_count": 42,
   "metadata": {},
   "outputs": [
    {
     "name": "stdout",
     "output_type": "stream",
     "text": [
      "4\n"
     ]
    }
   ],
   "source": [
    "import numpy as np\n",
    "arr = np.array([1, 2/3, 1/3, 0])\n",
    "arr1 = np.array([2/3, 2/3, 1/3, 1/3])\n",
    "\n",
    "print(arr.size)"
   ]
  },
  {
   "cell_type": "code",
   "execution_count": 43,
   "metadata": {},
   "outputs": [],
   "source": [
    "def calSTD(wf): #wf is the winning fraction\n",
    "    # function body \n",
    "    len = wf.size\n",
    "    part1 =0\n",
    "    part2 =0\n",
    "    \n",
    "    for i in range(0,len):\n",
    "        part1 += np.square(wf[i])\n",
    "        part2 += wf[i]\n",
    "\n",
    "\n",
    "    part1 /= len\n",
    "    part2 = np.square(part2/len)\n",
    "\n",
    "    std = np.sqrt(part1 - part2)\n",
    "\n",
    "    \n",
    "\n",
    "    return std\n",
    "\n",
    "def calQ(std):\n",
    "    q = 1/2 - np.sqrt(3) * std\n",
    "    return q"
   ]
  },
  {
   "cell_type": "code",
   "execution_count": 44,
   "metadata": {},
   "outputs": [
    {
     "name": "stdout",
     "output_type": "stream",
     "text": [
      "0.16666666666666688\n",
      "0.21132486540518675\n"
     ]
    }
   ],
   "source": [
    "#std\n",
    "std = calSTD(arr1)\n",
    "print(std)\n",
    "print(calQ(std))"
   ]
  },
  {
   "cell_type": "code",
   "execution_count": null,
   "metadata": {},
   "outputs": [],
   "source": []
  }
 ],
 "metadata": {
  "kernelspec": {
   "display_name": "Python 3",
   "language": "python",
   "name": "python3"
  },
  "language_info": {
   "codemirror_mode": {
    "name": "ipython",
    "version": 3
   },
   "file_extension": ".py",
   "mimetype": "text/x-python",
   "name": "python",
   "nbconvert_exporter": "python",
   "pygments_lexer": "ipython3",
   "version": "3.11.4"
  },
  "orig_nbformat": 4
 },
 "nbformat": 4,
 "nbformat_minor": 2
}
