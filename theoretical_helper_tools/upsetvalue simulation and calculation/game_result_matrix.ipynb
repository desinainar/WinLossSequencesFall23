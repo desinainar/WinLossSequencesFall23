{
 "cells": [
  {
   "cell_type": "markdown",
   "metadata": {},
   "source": []
  },
  {
   "cell_type": "code",
   "execution_count": 16,
   "metadata": {},
   "outputs": [],
   "source": [
    "winrate = [1/2,1/2,1/2,1/2]\n",
    "\n",
    "wincount = [0,0,0,0]\n",
    "gamecount = [0,0,0,0]\n",
    "\n",
    "predict = [-1]\n",
    "\n",
    "gamenumber = 0\n",
    "upsetnumber =0\n",
    "def game(team1,team2,winner):\n",
    "    gamecount[team1]+=1\n",
    "    gamecount[team2]+=1\n",
    "\n",
    "    winrate_=0\n",
    "\n",
    "    if(winrate[team1]>=winrate[team2]):\n",
    "        #print(\"Predicted winner:\" + team1)\n",
    "        predict.append(team1)\n",
    "    else:\n",
    "        #print(\"Predicted winner:\" + team2)\n",
    "        predict.append(team2)\n",
    "    \n",
    "    if(predict[gamenumber+1] != winner): #underdog wins\n",
    "        upsetnumber+=1\n",
    "        winrate[predict[gamenumber+1]] = wincount[predict[gamenumber+1]] / gamecount[predict[gamenumber+1]]\n",
    "        winrate[predict[gamenumber+1]] = wincount[predict[gamenumber+1]] / gamecount[predict[gamenumber+1]]\n",
    "\n",
    "    gamenumber+=1\n",
    "\n",
    "\n",
    "\n",
    "def result():\n",
    "    print(winrate)\n",
    "    print(gamecount)\n",
    "    print(predict)    "
   ]
  },
  {
   "cell_type": "code",
   "execution_count": 17,
   "metadata": {},
   "outputs": [
    {
     "name": "stdout",
     "output_type": "stream",
     "text": [
      "[0.5, 0.5, 0.5, 0.5]\n",
      "[0, 0, 0, 0]\n",
      "[-1, 0]\n"
     ]
    }
   ],
   "source": [
    "\n",
    "game(0,1,0)\n",
    "\n",
    "result()"
   ]
  },
  {
   "cell_type": "markdown",
   "metadata": {},
   "source": [
    "MR = (w1 + 1) / (w2 + w1 + 2)"
   ]
  },
  {
   "cell_type": "code",
   "execution_count": 19,
   "metadata": {},
   "outputs": [
    {
     "data": {
      "text/plain": [
       "0.6428571428571429"
      ]
     },
     "execution_count": 19,
     "metadata": {},
     "output_type": "execute_result"
    }
   ],
   "source": [
    "18/28"
   ]
  }
 ],
 "metadata": {
  "kernelspec": {
   "display_name": "Python 3",
   "language": "python",
   "name": "python3"
  },
  "language_info": {
   "codemirror_mode": {
    "name": "ipython",
    "version": 3
   },
   "file_extension": ".py",
   "mimetype": "text/x-python",
   "name": "python",
   "nbconvert_exporter": "python",
   "pygments_lexer": "ipython3",
   "version": "3.11.4"
  },
  "orig_nbformat": 4
 },
 "nbformat": 4,
 "nbformat_minor": 2
}
